{
 "cells": [
  {
   "cell_type": "code",
   "execution_count": null,
   "metadata": {
    "collapsed": false,
    "scrolled": true
   },
   "outputs": [],
   "source": [
    "import importlib\n",
    "importlib.reload(helpers)"
   ]
  },
  {
   "cell_type": "code",
   "execution_count": null,
   "metadata": {
    "collapsed": false
   },
   "outputs": [],
   "source": [
    "import sys, os\n",
    "import json\n",
    "import matplotlib.pyplot as plt\n",
    "import numpy as np\n",
    "import scipy\n",
    "import polarlib.file_utils as file_utils\n",
    "import polarlib.math_utils as math_utils\n",
    "import polarlib.struct_utils as struct_utils"
   ]
  },
  {
   "cell_type": "code",
   "execution_count": null,
   "metadata": {
    "collapsed": false
   },
   "outputs": [],
   "source": [
    "import jupyter.helpers as helpers"
   ]
  },
  {
   "cell_type": "code",
   "execution_count": null,
   "metadata": {
    "collapsed": true
   },
   "outputs": [],
   "source": [
    "%matplotlib inline"
   ]
  },
  {
   "cell_type": "markdown",
   "metadata": {},
   "source": [
    "# ff"
   ]
  },
  {
   "cell_type": "code",
   "execution_count": null,
   "metadata": {
    "collapsed": true
   },
   "outputs": [],
   "source": [
    "key = 'ff'"
   ]
  },
  {
   "cell_type": "markdown",
   "metadata": {},
   "source": [
    "## Whole Sides Analysis"
   ]
  },
  {
   "cell_type": "markdown",
   "metadata": {},
   "source": [
    "To get the files below, run `measure_sides.py`."
   ]
  },
  {
   "cell_type": "code",
   "execution_count": null,
   "metadata": {
    "collapsed": true
   },
   "outputs": [],
   "source": [
    "retweets_filename = 'results/retweets.' + key + '.day.0.10.out'\n",
    "replies_filename = 'results/replies.' + key + '.day.0.10.out'"
   ]
  },
  {
   "cell_type": "code",
   "execution_count": null,
   "metadata": {
    "collapsed": false
   },
   "outputs": [],
   "source": [
    "full_reg_rt_vol = helpers.get_volume(retweets_filename, smoothen = False)\n",
    "# full_reg_re_vol = helpers.get_volume(replies_filename, smoothen = False)"
   ]
  },
  {
   "cell_type": "code",
   "execution_count": null,
   "metadata": {
    "collapsed": false
   },
   "outputs": [],
   "source": [
    "# print(*helpers.find_bursts(tweet_vol), sep = ', ')"
   ]
  },
  {
   "cell_type": "code",
   "execution_count": null,
   "metadata": {
    "collapsed": false
   },
   "outputs": [],
   "source": [
    "# helpers.plot_volume(full_reg_rt_vol, key)"
   ]
  },
  {
   "cell_type": "code",
   "execution_count": null,
   "metadata": {
    "collapsed": false
   },
   "outputs": [],
   "source": [
    "helpers.plot_measures(retweets_filename, full_reg_rt_vol,\n",
    "                      label=key, descr = \"retweets\",\n",
    "                      save_dir = 'results/figures/')"
   ]
  },
  {
   "cell_type": "code",
   "execution_count": null,
   "metadata": {
    "collapsed": false
   },
   "outputs": [],
   "source": [
    "helpers.plot_measures(replies_filename, full_reg_rt_vol, descr = \"replies\",\n",
    "                      save_dir = 'results/figures/')"
   ]
  },
  {
   "cell_type": "code",
   "execution_count": null,
   "metadata": {
    "collapsed": false
   },
   "outputs": [],
   "source": [
    "helpers.plot_content_measures(retweets_filename, full_reg_rt_vol, save_dir = 'results/figures/')"
   ]
  },
  {
   "cell_type": "markdown",
   "metadata": {},
   "source": [
    "# sxsw"
   ]
  },
  {
   "cell_type": "code",
   "execution_count": null,
   "metadata": {
    "collapsed": true
   },
   "outputs": [],
   "source": [
    "key = 'sxsw'"
   ]
  },
  {
   "cell_type": "markdown",
   "metadata": {},
   "source": [
    "## Whole Sides Analysis"
   ]
  },
  {
   "cell_type": "markdown",
   "metadata": {},
   "source": [
    "To get the files below, run `measure_sides.py`."
   ]
  },
  {
   "cell_type": "code",
   "execution_count": null,
   "metadata": {
    "collapsed": true
   },
   "outputs": [],
   "source": [
    "retweets_filename = 'results/retweets.' + key + '.day.0.10.out'\n",
    "replies_filename = 'results/replies.' + key + '.day.0.10.out'"
   ]
  },
  {
   "cell_type": "code",
   "execution_count": null,
   "metadata": {
    "collapsed": false
   },
   "outputs": [],
   "source": [
    "full_reg_rt_vol = helpers.get_volume(retweets_filename, smoothen = False)\n",
    "# full_reg_re_vol = helpers.get_volume(replies_filename, smoothen = False)"
   ]
  },
  {
   "cell_type": "code",
   "execution_count": null,
   "metadata": {
    "collapsed": false
   },
   "outputs": [],
   "source": [
    "# print(*helpers.find_bursts(tweet_vol), sep = ', ')"
   ]
  },
  {
   "cell_type": "code",
   "execution_count": null,
   "metadata": {
    "collapsed": false
   },
   "outputs": [],
   "source": [
    "# helpers.plot_volume(full_reg_rt_vol, key)"
   ]
  },
  {
   "cell_type": "code",
   "execution_count": null,
   "metadata": {
    "collapsed": false
   },
   "outputs": [],
   "source": [
    "helpers.plot_measures(retweets_filename, full_reg_rt_vol,\n",
    "                      label=key, descr = \"retweets\",\n",
    "                      save_dir = 'results/figures/')"
   ]
  },
  {
   "cell_type": "code",
   "execution_count": null,
   "metadata": {
    "collapsed": false
   },
   "outputs": [],
   "source": [
    "helpers.plot_measures(replies_filename, full_reg_rt_vol, descr = \"replies\",\n",
    "                      save_dir = 'results/figures/')"
   ]
  },
  {
   "cell_type": "code",
   "execution_count": null,
   "metadata": {
    "collapsed": false
   },
   "outputs": [],
   "source": [
    "helpers.plot_content_measures(retweets_filename, full_reg_rt_vol, save_dir = 'results/figures/')"
   ]
  },
  {
   "cell_type": "markdown",
   "metadata": {},
   "source": [
    "# tbt"
   ]
  },
  {
   "cell_type": "code",
   "execution_count": null,
   "metadata": {
    "collapsed": true
   },
   "outputs": [],
   "source": [
    "key = 'tbt'"
   ]
  },
  {
   "cell_type": "markdown",
   "metadata": {},
   "source": [
    "## Whole Sides Analysis"
   ]
  },
  {
   "cell_type": "markdown",
   "metadata": {},
   "source": [
    "To get the files below, run `measure_sides.py`."
   ]
  },
  {
   "cell_type": "code",
   "execution_count": null,
   "metadata": {
    "collapsed": true
   },
   "outputs": [],
   "source": [
    "retweets_filename = 'results/retweets.' + key + '.day.0.10.out'\n",
    "replies_filename = 'results/replies.' + key + '.day.0.10.out'"
   ]
  },
  {
   "cell_type": "code",
   "execution_count": null,
   "metadata": {
    "collapsed": false
   },
   "outputs": [],
   "source": [
    "full_reg_rt_vol = helpers.get_volume(retweets_filename, smoothen = False)\n",
    "# full_reg_re_vol = helpers.get_volume(replies_filename, smoothen = False)"
   ]
  },
  {
   "cell_type": "code",
   "execution_count": null,
   "metadata": {
    "collapsed": false
   },
   "outputs": [],
   "source": [
    "# print(*helpers.find_bursts(tweet_vol), sep = ', ')"
   ]
  },
  {
   "cell_type": "code",
   "execution_count": null,
   "metadata": {
    "collapsed": false
   },
   "outputs": [],
   "source": [
    "# helpers.plot_volume(full_reg_rt_vol, key)"
   ]
  },
  {
   "cell_type": "code",
   "execution_count": null,
   "metadata": {
    "collapsed": false
   },
   "outputs": [],
   "source": [
    "helpers.plot_measures(retweets_filename, full_reg_rt_vol,\n",
    "                      label=key, descr = \"retweets\",\n",
    "                      save_dir = 'results/figures/')"
   ]
  },
  {
   "cell_type": "code",
   "execution_count": null,
   "metadata": {
    "collapsed": false
   },
   "outputs": [],
   "source": [
    "helpers.plot_measures(replies_filename, full_reg_rt_vol, descr = \"replies\",\n",
    "                      save_dir = 'results/figures/')"
   ]
  },
  {
   "cell_type": "code",
   "execution_count": null,
   "metadata": {
    "collapsed": false
   },
   "outputs": [],
   "source": [
    "helpers.plot_content_measures(retweets_filename, full_reg_rt_vol, save_dir = 'results/figures/')"
   ]
  },
  {
   "cell_type": "markdown",
   "metadata": {},
   "source": [
    "# nba"
   ]
  },
  {
   "cell_type": "code",
   "execution_count": null,
   "metadata": {
    "collapsed": true
   },
   "outputs": [],
   "source": [
    "key = 'nba'"
   ]
  },
  {
   "cell_type": "markdown",
   "metadata": {},
   "source": [
    "## Whole Sides Analysis"
   ]
  },
  {
   "cell_type": "markdown",
   "metadata": {},
   "source": [
    "To get the files below, run `measure_sides.py`."
   ]
  },
  {
   "cell_type": "code",
   "execution_count": null,
   "metadata": {
    "collapsed": true
   },
   "outputs": [],
   "source": [
    "retweets_filename = 'results/retweets.' + key + '.day.0.10.out'\n",
    "replies_filename = 'results/replies.' + key + '.day.0.10.out'"
   ]
  },
  {
   "cell_type": "code",
   "execution_count": null,
   "metadata": {
    "collapsed": false
   },
   "outputs": [],
   "source": [
    "full_reg_rt_vol = helpers.get_volume(retweets_filename, smoothen = False)\n",
    "# full_reg_re_vol = helpers.get_volume(replies_filename, smoothen = False)"
   ]
  },
  {
   "cell_type": "code",
   "execution_count": null,
   "metadata": {
    "collapsed": false
   },
   "outputs": [],
   "source": [
    "# print(*helpers.find_bursts(tweet_vol), sep = ', ')"
   ]
  },
  {
   "cell_type": "code",
   "execution_count": null,
   "metadata": {
    "collapsed": false
   },
   "outputs": [],
   "source": [
    "# helpers.plot_volume(full_reg_rt_vol, key)"
   ]
  },
  {
   "cell_type": "code",
   "execution_count": null,
   "metadata": {
    "collapsed": false
   },
   "outputs": [],
   "source": [
    "helpers.plot_measures(retweets_filename, full_reg_rt_vol,\n",
    "                      label=key, descr = \"retweets\",\n",
    "                      save_dir = 'results/figures/')"
   ]
  },
  {
   "cell_type": "code",
   "execution_count": null,
   "metadata": {
    "collapsed": false
   },
   "outputs": [],
   "source": [
    "helpers.plot_measures(replies_filename, full_reg_rt_vol, descr = \"replies\",\n",
    "                      save_dir = 'results/figures/')"
   ]
  },
  {
   "cell_type": "code",
   "execution_count": null,
   "metadata": {
    "collapsed": false
   },
   "outputs": [],
   "source": [
    "helpers.plot_content_measures(retweets_filename, full_reg_rt_vol, save_dir = 'results/figures/')"
   ]
  },
  {
   "cell_type": "markdown",
   "metadata": {},
   "source": [
    "# nfl"
   ]
  },
  {
   "cell_type": "code",
   "execution_count": null,
   "metadata": {
    "collapsed": true
   },
   "outputs": [],
   "source": [
    "key = 'nfl'"
   ]
  },
  {
   "cell_type": "markdown",
   "metadata": {},
   "source": [
    "## Whole Sides Analysis"
   ]
  },
  {
   "cell_type": "markdown",
   "metadata": {},
   "source": [
    "To get the files below, run `measure_sides.py`."
   ]
  },
  {
   "cell_type": "code",
   "execution_count": null,
   "metadata": {
    "collapsed": true
   },
   "outputs": [],
   "source": [
    "retweets_filename = 'results/retweets.' + key + '.day.0.10.out'\n",
    "replies_filename = 'results/replies.' + key + '.day.0.10.out'"
   ]
  },
  {
   "cell_type": "code",
   "execution_count": null,
   "metadata": {
    "collapsed": false
   },
   "outputs": [],
   "source": [
    "full_reg_rt_vol = helpers.get_volume(retweets_filename, smoothen = False)\n",
    "# full_reg_re_vol = helpers.get_volume(replies_filename, smoothen = False)"
   ]
  },
  {
   "cell_type": "code",
   "execution_count": null,
   "metadata": {
    "collapsed": false
   },
   "outputs": [],
   "source": [
    "# print(*helpers.find_bursts(tweet_vol), sep = ', ')"
   ]
  },
  {
   "cell_type": "code",
   "execution_count": null,
   "metadata": {
    "collapsed": false
   },
   "outputs": [],
   "source": [
    "# helpers.plot_volume(full_reg_rt_vol, key)"
   ]
  },
  {
   "cell_type": "code",
   "execution_count": null,
   "metadata": {
    "collapsed": false
   },
   "outputs": [],
   "source": [
    "helpers.plot_measures(retweets_filename, full_reg_rt_vol,\n",
    "                      label=key, descr = \"retweets\",\n",
    "                      save_dir = 'results/figures/')"
   ]
  },
  {
   "cell_type": "code",
   "execution_count": null,
   "metadata": {
    "collapsed": false
   },
   "outputs": [],
   "source": [
    "helpers.plot_measures(replies_filename, full_reg_rt_vol, descr = \"replies\",\n",
    "                      save_dir = 'results/figures/')"
   ]
  },
  {
   "cell_type": "code",
   "execution_count": null,
   "metadata": {
    "collapsed": false
   },
   "outputs": [],
   "source": [
    "helpers.plot_content_measures(retweets_filename, full_reg_rt_vol, save_dir = 'results/figures/')"
   ]
  },
  {
   "cell_type": "markdown",
   "metadata": {},
   "source": [
    "# love"
   ]
  },
  {
   "cell_type": "code",
   "execution_count": null,
   "metadata": {
    "collapsed": true
   },
   "outputs": [],
   "source": [
    "key = 'love'"
   ]
  },
  {
   "cell_type": "markdown",
   "metadata": {},
   "source": [
    "## Whole Sides Analysis"
   ]
  },
  {
   "cell_type": "markdown",
   "metadata": {},
   "source": [
    "To get the files below, run `measure_sides.py`."
   ]
  },
  {
   "cell_type": "code",
   "execution_count": null,
   "metadata": {
    "collapsed": true
   },
   "outputs": [],
   "source": [
    "retweets_filename = 'results/retweets.' + key + '.day.0.10.out'\n",
    "replies_filename = 'results/replies.' + key + '.day.0.10.out'"
   ]
  },
  {
   "cell_type": "code",
   "execution_count": null,
   "metadata": {
    "collapsed": false
   },
   "outputs": [],
   "source": [
    "full_reg_rt_vol = helpers.get_volume(retweets_filename, smoothen = False)\n",
    "# full_reg_re_vol = helpers.get_volume(replies_filename, smoothen = False)"
   ]
  },
  {
   "cell_type": "code",
   "execution_count": null,
   "metadata": {
    "collapsed": false
   },
   "outputs": [],
   "source": [
    "# print(*helpers.find_bursts(tweet_vol), sep = ', ')"
   ]
  },
  {
   "cell_type": "code",
   "execution_count": null,
   "metadata": {
    "collapsed": false
   },
   "outputs": [],
   "source": [
    "# helpers.plot_volume(full_reg_rt_vol, key)"
   ]
  },
  {
   "cell_type": "code",
   "execution_count": null,
   "metadata": {
    "collapsed": false
   },
   "outputs": [],
   "source": [
    "helpers.plot_measures(retweets_filename, full_reg_rt_vol,\n",
    "                      label=key, descr = \"retweets\",\n",
    "                      save_dir = 'results/figures/')"
   ]
  },
  {
   "cell_type": "code",
   "execution_count": null,
   "metadata": {
    "collapsed": false
   },
   "outputs": [],
   "source": [
    "helpers.plot_measures(replies_filename, full_reg_rt_vol, descr = \"replies\",\n",
    "                      save_dir = 'results/figures/')"
   ]
  },
  {
   "cell_type": "code",
   "execution_count": null,
   "metadata": {
    "collapsed": false
   },
   "outputs": [],
   "source": [
    "helpers.plot_content_measures(retweets_filename, full_reg_rt_vol, save_dir = 'results/figures/')"
   ]
  },
  {
   "cell_type": "markdown",
   "metadata": {},
   "source": [
    "# gameofthrones"
   ]
  },
  {
   "cell_type": "code",
   "execution_count": null,
   "metadata": {
    "collapsed": true
   },
   "outputs": [],
   "source": [
    "key = 'gameofthrones'"
   ]
  },
  {
   "cell_type": "markdown",
   "metadata": {},
   "source": [
    "## Whole Sides Analysis"
   ]
  },
  {
   "cell_type": "markdown",
   "metadata": {},
   "source": [
    "To get the files below, run `measure_sides.py`."
   ]
  },
  {
   "cell_type": "code",
   "execution_count": null,
   "metadata": {
    "collapsed": true
   },
   "outputs": [],
   "source": [
    "retweets_filename = 'results/retweets.' + key + '.day.0.10.out'\n",
    "replies_filename = 'results/replies.' + key + '.day.0.10.out'"
   ]
  },
  {
   "cell_type": "code",
   "execution_count": null,
   "metadata": {
    "collapsed": false
   },
   "outputs": [],
   "source": [
    "full_reg_rt_vol = helpers.get_volume(retweets_filename, smoothen = False)\n",
    "# full_reg_re_vol = helpers.get_volume(replies_filename, smoothen = False)"
   ]
  },
  {
   "cell_type": "code",
   "execution_count": null,
   "metadata": {
    "collapsed": false
   },
   "outputs": [],
   "source": [
    "# print(*helpers.find_bursts(tweet_vol), sep = ', ')"
   ]
  },
  {
   "cell_type": "code",
   "execution_count": null,
   "metadata": {
    "collapsed": false
   },
   "outputs": [],
   "source": [
    "helpers.plot_volume(full_reg_rt_vol, key)"
   ]
  },
  {
   "cell_type": "code",
   "execution_count": null,
   "metadata": {
    "collapsed": false
   },
   "outputs": [],
   "source": [
    "helpers.plot_measures(retweets_filename, full_reg_rt_vol,\n",
    "                      label=key, descr = \"retweets\",\n",
    "                      save_dir = 'results/figures/')"
   ]
  },
  {
   "cell_type": "code",
   "execution_count": null,
   "metadata": {
    "collapsed": false
   },
   "outputs": [],
   "source": [
    "helpers.plot_measures(replies_filename, full_reg_rt_vol, descr = \"replies\",\n",
    "                      save_dir = 'results/figures/')"
   ]
  },
  {
   "cell_type": "code",
   "execution_count": null,
   "metadata": {
    "collapsed": false
   },
   "outputs": [],
   "source": [
    "helpers.plot_content_measures(retweets_filename, full_reg_rt_vol, save_dir = 'results/figures/')"
   ]
  },
  {
   "cell_type": "markdown",
   "metadata": {},
   "source": [
    "****\n",
    "\n",
    "Controversial topics follow"
   ]
  },
  {
   "cell_type": "markdown",
   "metadata": {},
   "source": [
    "# Obamacare"
   ]
  },
  {
   "cell_type": "markdown",
   "metadata": {},
   "source": [
    "## Whole Sides Analysis"
   ]
  },
  {
   "cell_type": "markdown",
   "metadata": {},
   "source": [
    "To get the files below, run `measure_sides.py`."
   ]
  },
  {
   "cell_type": "code",
   "execution_count": null,
   "metadata": {
    "collapsed": true
   },
   "outputs": [],
   "source": [
    "retweets_filename = 'results/retweets.obamacare.day.0.10.out'\n",
    "replies_filename = 'results/replies.obamacare.day.0.10.out'"
   ]
  },
  {
   "cell_type": "code",
   "execution_count": null,
   "metadata": {
    "collapsed": false
   },
   "outputs": [],
   "source": [
    "full_reg_rt_vol = helpers.get_volume(retweets_filename, smoothen = False)\n",
    "# full_reg_re_vol = helpers.get_volume(replies_filename, smoothen = False)"
   ]
  },
  {
   "cell_type": "code",
   "execution_count": null,
   "metadata": {
    "collapsed": false
   },
   "outputs": [],
   "source": [
    "# print(*helpers.find_bursts(tweet_vol), sep = ', ')"
   ]
  },
  {
   "cell_type": "markdown",
   "metadata": {},
   "source": [
    "#### Volume"
   ]
  },
  {
   "cell_type": "code",
   "execution_count": null,
   "metadata": {
    "collapsed": false,
    "scrolled": true
   },
   "outputs": [],
   "source": [
    "# helpers.plot_volume(full_reg_rt_vol,'obamacare')\n",
    "# helpers.plot_volume(full_reg_rt_vol)"
   ]
  },
  {
   "cell_type": "markdown",
   "metadata": {},
   "source": [
    "#### Measures at Different Volume Levels"
   ]
  },
  {
   "cell_type": "code",
   "execution_count": null,
   "metadata": {
    "collapsed": false,
    "scrolled": false
   },
   "outputs": [],
   "source": [
    "helpers.plot_measures(retweets_filename, full_reg_rt_vol,\n",
    "                      label='obamacare', descr = \"retweets\",\n",
    "                      save_dir = 'results/figures/')"
   ]
  },
  {
   "cell_type": "code",
   "execution_count": null,
   "metadata": {
    "collapsed": false
   },
   "outputs": [],
   "source": [
    "helpers.plot_measures(replies_filename, full_reg_rt_vol, descr = \"replies\",\n",
    "                      save_dir = 'results/figures/')"
   ]
  },
  {
   "cell_type": "code",
   "execution_count": null,
   "metadata": {
    "collapsed": false
   },
   "outputs": [],
   "source": [
    "helpers.plot_content_measures(retweets_filename, full_reg_rt_vol, save_dir = 'results/figures/')"
   ]
  },
  {
   "cell_type": "markdown",
   "metadata": {},
   "source": [
    "## Core Analysis"
   ]
  },
  {
   "cell_type": "code",
   "execution_count": null,
   "metadata": {
    "collapsed": true
   },
   "outputs": [],
   "source": [
    "retweets_filename = 'results/core.retweets.obamacare.day.0.10.out'\n",
    "replies_filename = 'results/core.replies.obamacare.day.0.10.out'"
   ]
  },
  {
   "cell_type": "code",
   "execution_count": null,
   "metadata": {
    "collapsed": true
   },
   "outputs": [],
   "source": [
    "reg_rt_vol = helpers.get_volume(retweets_filename, smoothen = False)\n",
    "reg_re_vol = helpers.get_volume(replies_filename, smoothen = False)"
   ]
  },
  {
   "cell_type": "markdown",
   "metadata": {},
   "source": [
    "#### Volume"
   ]
  },
  {
   "cell_type": "code",
   "execution_count": null,
   "metadata": {
    "collapsed": false
   },
   "outputs": [],
   "source": [
    "# helpers.plot_volume(reg_rt_vol)\n",
    "# helpers.plot_volume(reg_re_vol)"
   ]
  },
  {
   "cell_type": "markdown",
   "metadata": {},
   "source": [
    "#### Measures at Different Volume Levels"
   ]
  },
  {
   "cell_type": "code",
   "execution_count": null,
   "metadata": {
    "collapsed": false
   },
   "outputs": [],
   "source": [
    "helpers.plot_measures(retweets_filename, full_reg_rt_vol, is_core = True, descr = \"core retweets\",\n",
    "                      save_dir = 'results/figures/')"
   ]
  },
  {
   "cell_type": "code",
   "execution_count": null,
   "metadata": {
    "collapsed": false
   },
   "outputs": [],
   "source": [
    "helpers.plot_measures(replies_filename, full_reg_rt_vol, is_core = True, descr = \"core replies\",\n",
    "                      save_dir = 'results/figures/')"
   ]
  },
  {
   "cell_type": "markdown",
   "metadata": {},
   "source": [
    "# Abortion"
   ]
  },
  {
   "cell_type": "markdown",
   "metadata": {},
   "source": [
    "## Daily"
   ]
  },
  {
   "cell_type": "markdown",
   "metadata": {},
   "source": [
    "### Whole Sides Analysis"
   ]
  },
  {
   "cell_type": "markdown",
   "metadata": {},
   "source": [
    "To get the files below, run `measure_sides.py`."
   ]
  },
  {
   "cell_type": "code",
   "execution_count": null,
   "metadata": {
    "collapsed": false
   },
   "outputs": [],
   "source": [
    "# volume_filename = '../data/twitter_under_stress/tweet_user_counts/abortion_day.txt'\n",
    "# tweet_vol = helpers.get_tweet_volume(volume_filename)"
   ]
  },
  {
   "cell_type": "code",
   "execution_count": null,
   "metadata": {
    "collapsed": true
   },
   "outputs": [],
   "source": [
    "retweets_filename = 'results/retweets.abortion.day.0.10.out'\n",
    "replies_filename = 'results/replies.abortion.day.0.10.out'"
   ]
  },
  {
   "cell_type": "code",
   "execution_count": null,
   "metadata": {
    "collapsed": false
   },
   "outputs": [],
   "source": [
    "full_reg_rt_vol = helpers.get_volume(retweets_filename, smoothen = False)\n",
    "full_reg_re_vol = helpers.get_volume(replies_filename, smoothen = False)"
   ]
  },
  {
   "cell_type": "code",
   "execution_count": null,
   "metadata": {
    "collapsed": false
   },
   "outputs": [],
   "source": [
    "# print(*helpers.find_bursts(full_reg_rt_vol), sep = ', ')"
   ]
  },
  {
   "cell_type": "markdown",
   "metadata": {},
   "source": [
    "#### Volume"
   ]
  },
  {
   "cell_type": "code",
   "execution_count": null,
   "metadata": {
    "collapsed": false,
    "scrolled": true
   },
   "outputs": [],
   "source": [
    "# helpers.plot_volume(full_reg_rt_vol)\n",
    "# helpers.plot_volume(full_reg_re_vol)"
   ]
  },
  {
   "cell_type": "markdown",
   "metadata": {},
   "source": [
    "#### Measures at Different Volume Levels"
   ]
  },
  {
   "cell_type": "code",
   "execution_count": null,
   "metadata": {
    "collapsed": false,
    "scrolled": true
   },
   "outputs": [],
   "source": [
    "helpers.plot_measures(retweets_filename, full_reg_rt_vol, descr = \"retweets\",\n",
    "                      save_dir = 'results/figures/')"
   ]
  },
  {
   "cell_type": "code",
   "execution_count": null,
   "metadata": {
    "collapsed": false
   },
   "outputs": [],
   "source": [
    "helpers.plot_measures(replies_filename, full_reg_rt_vol, descr = \"replies\",\n",
    "                      save_dir = 'results/figures/')"
   ]
  },
  {
   "cell_type": "code",
   "execution_count": null,
   "metadata": {
    "collapsed": false
   },
   "outputs": [],
   "source": [
    "helpers.plot_content_measures(retweets_filename, full_reg_rt_vol, save_dir = 'results/figures/')"
   ]
  },
  {
   "cell_type": "markdown",
   "metadata": {},
   "source": [
    "### Core Analysis"
   ]
  },
  {
   "cell_type": "code",
   "execution_count": null,
   "metadata": {
    "collapsed": true
   },
   "outputs": [],
   "source": [
    "retweets_filename = 'results/core.retweets.abortion.day.0.10.out'\n",
    "replies_filename = 'results/core.replies.abortion.day.0.10.out'"
   ]
  },
  {
   "cell_type": "code",
   "execution_count": null,
   "metadata": {
    "collapsed": false
   },
   "outputs": [],
   "source": [
    "reg_rt_vol = helpers.get_volume(retweets_filename, smoothen = False)\n",
    "reg_re_vol = helpers.get_volume(replies_filename, smoothen = False)"
   ]
  },
  {
   "cell_type": "markdown",
   "metadata": {},
   "source": [
    "#### Volume"
   ]
  },
  {
   "cell_type": "code",
   "execution_count": null,
   "metadata": {
    "collapsed": false
   },
   "outputs": [],
   "source": [
    "# helpers.plot_volume(reg_rt_vol)\n",
    "# helpers.plot_volume(reg_re_vol)"
   ]
  },
  {
   "cell_type": "markdown",
   "metadata": {},
   "source": [
    "#### Measures at Different Volume Levels"
   ]
  },
  {
   "cell_type": "code",
   "execution_count": null,
   "metadata": {
    "collapsed": false
   },
   "outputs": [],
   "source": [
    "helpers.plot_measures(retweets_filename, full_reg_rt_vol, is_core = True, descr = \"core retweets\",\n",
    "                      save_dir = 'results/figures/')"
   ]
  },
  {
   "cell_type": "code",
   "execution_count": null,
   "metadata": {
    "collapsed": false
   },
   "outputs": [],
   "source": [
    "helpers.plot_measures(replies_filename, full_reg_rt_vol, is_core = True, descr = \"core replies\",\n",
    "                      save_dir = 'results/figures/')"
   ]
  },
  {
   "cell_type": "markdown",
   "metadata": {},
   "source": [
    "# Gun Control"
   ]
  },
  {
   "cell_type": "markdown",
   "metadata": {},
   "source": [
    "## Daily"
   ]
  },
  {
   "cell_type": "markdown",
   "metadata": {},
   "source": [
    "### Whole Sides Analysis"
   ]
  },
  {
   "cell_type": "markdown",
   "metadata": {},
   "source": [
    "To get the files below, run `measure_sides.py`."
   ]
  },
  {
   "cell_type": "code",
   "execution_count": null,
   "metadata": {
    "collapsed": true
   },
   "outputs": [],
   "source": [
    "retweets_filename = 'results/retweets.guncontrol.day.0.10.out'\n",
    "replies_filename = 'results/replies.guncontrol.day.0.10.out'"
   ]
  },
  {
   "cell_type": "code",
   "execution_count": null,
   "metadata": {
    "collapsed": false
   },
   "outputs": [],
   "source": [
    "full_reg_rt_vol = helpers.get_volume(retweets_filename, smoothen = False)\n",
    "full_reg_re_vol = helpers.get_volume(replies_filename, smoothen = False)"
   ]
  },
  {
   "cell_type": "code",
   "execution_count": null,
   "metadata": {
    "collapsed": false
   },
   "outputs": [],
   "source": [
    "# print(*helpers.find_bursts(full_reg_rt_vol), sep = ', ')"
   ]
  },
  {
   "cell_type": "markdown",
   "metadata": {},
   "source": [
    "#### Volume"
   ]
  },
  {
   "cell_type": "code",
   "execution_count": null,
   "metadata": {
    "collapsed": false,
    "scrolled": true
   },
   "outputs": [],
   "source": [
    "# helpers.plot_volume(full_reg_rt_vol)\n",
    "# helpers.plot_volume(full_reg_re_vol)"
   ]
  },
  {
   "cell_type": "markdown",
   "metadata": {},
   "source": [
    "#### Measures at Different Volume Levels"
   ]
  },
  {
   "cell_type": "code",
   "execution_count": null,
   "metadata": {
    "collapsed": false,
    "scrolled": true
   },
   "outputs": [],
   "source": [
    "helpers.plot_measures(retweets_filename, full_reg_rt_vol, descr = \"retweets\",\n",
    "                      save_dir = 'results/figures/')"
   ]
  },
  {
   "cell_type": "code",
   "execution_count": null,
   "metadata": {
    "collapsed": false
   },
   "outputs": [],
   "source": [
    "helpers.plot_measures(replies_filename, full_reg_rt_vol, descr = \"replies\",\n",
    "                      save_dir = 'results/figures/')"
   ]
  },
  {
   "cell_type": "code",
   "execution_count": null,
   "metadata": {
    "collapsed": false
   },
   "outputs": [],
   "source": [
    "helpers.plot_content_measures(retweets_filename, full_reg_rt_vol, save_dir = 'results/figures/')"
   ]
  },
  {
   "cell_type": "markdown",
   "metadata": {},
   "source": [
    "### Core Analysis"
   ]
  },
  {
   "cell_type": "code",
   "execution_count": null,
   "metadata": {
    "collapsed": true
   },
   "outputs": [],
   "source": [
    "retweets_filename = 'results/core.retweets.guncontrol.day.0.10.out'\n",
    "replies_filename = 'results/core.replies.guncontrol.day.0.10.out'"
   ]
  },
  {
   "cell_type": "code",
   "execution_count": null,
   "metadata": {
    "collapsed": true
   },
   "outputs": [],
   "source": [
    "reg_rt_vol = helpers.get_volume(retweets_filename, smoothen = False)\n",
    "reg_re_vol = helpers.get_volume(replies_filename, smoothen = False)"
   ]
  },
  {
   "cell_type": "code",
   "execution_count": null,
   "metadata": {
    "collapsed": false
   },
   "outputs": [],
   "source": [
    "# print(*helpers.find_bursts(full_reg_rt_vol), sep = ', ')"
   ]
  },
  {
   "cell_type": "markdown",
   "metadata": {},
   "source": [
    "#### Volume"
   ]
  },
  {
   "cell_type": "code",
   "execution_count": null,
   "metadata": {
    "collapsed": false
   },
   "outputs": [],
   "source": [
    "# helpers.plot_volume(reg_rt_vol)\n",
    "# helpers.plot_volume(reg_re_vol)"
   ]
  },
  {
   "cell_type": "markdown",
   "metadata": {},
   "source": [
    "#### Measures at Different Volume Levels"
   ]
  },
  {
   "cell_type": "code",
   "execution_count": null,
   "metadata": {
    "collapsed": false
   },
   "outputs": [],
   "source": [
    "helpers.plot_measures(retweets_filename, full_reg_rt_vol, is_core = True, descr = \"core retweets\",\n",
    "                      save_dir = 'results/figures/')"
   ]
  },
  {
   "cell_type": "code",
   "execution_count": null,
   "metadata": {
    "collapsed": false
   },
   "outputs": [],
   "source": [
    "helpers.plot_measures(replies_filename, full_reg_rt_vol, is_core = True, descr = \"core replies\",\n",
    "                      save_dir = 'results/figures/')"
   ]
  },
  {
   "cell_type": "markdown",
   "metadata": {},
   "source": [
    "# Fracking"
   ]
  },
  {
   "cell_type": "markdown",
   "metadata": {},
   "source": [
    "## Daily"
   ]
  },
  {
   "cell_type": "markdown",
   "metadata": {},
   "source": [
    "### Whole Sides Analysis"
   ]
  },
  {
   "cell_type": "markdown",
   "metadata": {},
   "source": [
    "To get the files below, run `measure_sides.py`."
   ]
  },
  {
   "cell_type": "code",
   "execution_count": null,
   "metadata": {
    "collapsed": true
   },
   "outputs": [],
   "source": [
    "retweets_filename = 'results/retweets.fracking.day.0.10.out'\n",
    "replies_filename = 'results/replies.fracking.day.0.10.out'"
   ]
  },
  {
   "cell_type": "code",
   "execution_count": null,
   "metadata": {
    "collapsed": false
   },
   "outputs": [],
   "source": [
    "full_reg_rt_vol = helpers.get_volume(retweets_filename, smoothen = False)\n",
    "# full_reg_re_vol = helpers.get_volume(replies_filename, smoothen = False)"
   ]
  },
  {
   "cell_type": "code",
   "execution_count": null,
   "metadata": {
    "collapsed": false
   },
   "outputs": [],
   "source": [
    "# print(*helpers.find_bursts(full_reg_rt_vol), sep = ', ')"
   ]
  },
  {
   "cell_type": "markdown",
   "metadata": {},
   "source": [
    "#### Volume"
   ]
  },
  {
   "cell_type": "code",
   "execution_count": null,
   "metadata": {
    "collapsed": false,
    "scrolled": true
   },
   "outputs": [],
   "source": [
    "# helpers.plot_volume(full_reg_rt_vol)\n",
    "# helpers.plot_volume(full_reg_re_vol)"
   ]
  },
  {
   "cell_type": "markdown",
   "metadata": {},
   "source": [
    "#### Measures at Different Volume Levels"
   ]
  },
  {
   "cell_type": "code",
   "execution_count": null,
   "metadata": {
    "collapsed": false,
    "scrolled": true
   },
   "outputs": [],
   "source": [
    "helpers.plot_measures(retweets_filename, full_reg_rt_vol, descr = \"retweets\",\n",
    "                      save_dir = 'results/figures/')"
   ]
  },
  {
   "cell_type": "code",
   "execution_count": null,
   "metadata": {
    "collapsed": false
   },
   "outputs": [],
   "source": [
    "helpers.plot_measures(replies_filename, full_reg_rt_vol, descr = \"replies\",\n",
    "                      save_dir = 'results/figures/')"
   ]
  },
  {
   "cell_type": "code",
   "execution_count": null,
   "metadata": {
    "collapsed": false
   },
   "outputs": [],
   "source": [
    "helpers.plot_content_measures(retweets_filename, full_reg_rt_vol, save_dir = 'results/figures/')"
   ]
  },
  {
   "cell_type": "markdown",
   "metadata": {},
   "source": [
    "### Core Analysis"
   ]
  },
  {
   "cell_type": "code",
   "execution_count": null,
   "metadata": {
    "collapsed": true
   },
   "outputs": [],
   "source": [
    "retweets_filename = 'results/core.retweets.fracking.day.0.10.out'\n",
    "replies_filename = 'results/core.replies.fracking.day.0.10.out'"
   ]
  },
  {
   "cell_type": "code",
   "execution_count": null,
   "metadata": {
    "collapsed": false
   },
   "outputs": [],
   "source": [
    "reg_rt_vol = helpers.get_volume(retweets_filename, smoothen = False)\n",
    "reg_re_vol = helpers.get_volume(replies_filename, smoothen = False)"
   ]
  },
  {
   "cell_type": "markdown",
   "metadata": {},
   "source": [
    "#### Volume"
   ]
  },
  {
   "cell_type": "code",
   "execution_count": null,
   "metadata": {
    "collapsed": false
   },
   "outputs": [],
   "source": [
    "# helpers.plot_volume(reg_rt_vol)\n",
    "# helpers.plot_volume(reg_re_vol)"
   ]
  },
  {
   "cell_type": "markdown",
   "metadata": {},
   "source": [
    "#### Measures at Different Volume Levels"
   ]
  },
  {
   "cell_type": "code",
   "execution_count": null,
   "metadata": {
    "collapsed": false
   },
   "outputs": [],
   "source": [
    "helpers.plot_measures(retweets_filename, full_reg_rt_vol, is_core = True, descr = \"core retweets\",\n",
    "                      save_dir = 'results/figures/')"
   ]
  },
  {
   "cell_type": "code",
   "execution_count": null,
   "metadata": {
    "collapsed": false
   },
   "outputs": [],
   "source": [
    "helpers.plot_measures(replies_filename, full_reg_rt_vol, is_core = True, descr = \"core replies\",\n",
    "                      save_dir = 'results/figures/')"
   ]
  },
  {
   "cell_type": "code",
   "execution_count": null,
   "metadata": {
    "collapsed": true
   },
   "outputs": [],
   "source": []
  },
  {
   "cell_type": "code",
   "execution_count": null,
   "metadata": {
    "collapsed": true
   },
   "outputs": [],
   "source": []
  }
 ],
 "metadata": {
  "anaconda-cloud": {},
  "kernelspec": {
   "display_name": "Python [Root]",
   "language": "python",
   "name": "Python [Root]"
  },
  "language_info": {
   "codemirror_mode": {
    "name": "ipython",
    "version": 3
   },
   "file_extension": ".py",
   "mimetype": "text/x-python",
   "name": "python",
   "nbconvert_exporter": "python",
   "pygments_lexer": "ipython3",
   "version": "3.5.2"
  }
 },
 "nbformat": 4,
 "nbformat_minor": 0
}
